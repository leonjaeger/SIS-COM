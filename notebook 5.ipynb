{
 "cells": [
  {
   "cell_type": "code",
   "execution_count": 1,
   "metadata": {},
   "outputs": [],
   "source": [
    "#la forma en la que se encuentran los picos de las distintas frecuencias es indentica que en AM pero donde cambia es en la combinacion de los distintos aspectosde la frecuencia"
   ]
  },
  {
   "cell_type": "code",
   "execution_count": 2,
   "metadata": {},
   "outputs": [],
   "source": [
    "#la que se encarga de llevar la infromacion atraves de la portadora"
   ]
  },
  {
   "cell_type": "code",
   "execution_count": 4,
   "metadata": {},
   "outputs": [],
   "source": [
    "#el indice de modulacion es la modulacion resultante de la combinacion de las distintas señales siendo un 100% el rnago ideal de modulacion sin interferencia"
   ]
  },
  {
   "cell_type": "raw",
   "metadata": {},
   "source": [
    "#la relacion qu existe entre señal portadora y amplitud moduladora es de un mayor amplitud en la moduladora que es #llevada por la señal portadora"
   ]
  },
  {
   "cell_type": "code",
   "execution_count": 5,
   "metadata": {},
   "outputs": [],
   "source": [
    "#la amplitud de la portadora es mayor para alcanse y penetracion pero la frecuencia de la moduladora debe ser mas baja para hacer posible la demodulacion"
   ]
  },
  {
   "cell_type": "code",
   "execution_count": null,
   "metadata": {},
   "outputs": [],
   "source": [
    "# la moduladora no puede ser superior a la portadora, sino no existe ningun tipo de grafica"
   ]
  }
 ],
 "metadata": {
  "kernelspec": {
   "display_name": "Python 3",
   "language": "python",
   "name": "python3"
  },
  "language_info": {
   "codemirror_mode": {
    "name": "ipython",
    "version": 3
   },
   "file_extension": ".py",
   "mimetype": "text/x-python",
   "name": "python",
   "nbconvert_exporter": "python",
   "pygments_lexer": "ipython3",
   "version": "3.7.1"
  }
 },
 "nbformat": 4,
 "nbformat_minor": 2
}
